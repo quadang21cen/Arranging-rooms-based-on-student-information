{
 "cells": [
  {
   "cell_type": "code",
   "execution_count": 35,
   "metadata": {},
   "outputs": [],
   "source": [
    "import pandas as pd\n",
    "import matplotlib.pyplot as plt"
   ]
  },
  {
   "cell_type": "code",
   "execution_count": 36,
   "metadata": {},
   "outputs": [
    {
     "name": "stdout",
     "output_type": "stream",
     "text": [
      "       Cleanliess     Privacy\n",
      "count  323.000000  323.000000\n",
      "mean     8.012384    7.829721\n",
      "std      1.520002    2.124710\n",
      "min      1.000000    1.000000\n",
      "25%      7.000000    7.000000\n",
      "50%      8.000000    8.000000\n",
      "75%      9.000000   10.000000\n",
      "max     10.000000   10.000000\n"
     ]
    }
   ],
   "source": [
    "data = pd.read_csv(\"C:\\\\Users\\\\quach\\\\Desktop\\\\Personal\\\\FPT University\\\\SEMESTER 9\\\\Dataset\\\\FINAL_DataSet.csv\")\n",
    "print(data.describe())"
   ]
  },
  {
   "cell_type": "code",
   "execution_count": 37,
   "metadata": {},
   "outputs": [
    {
     "name": "stdout",
     "output_type": "stream",
     "text": [
      "     Name  Hometown  Bio_personality  food_drink  hob_inter  smoking  \\\n",
      "Sex                                                                    \n",
      "Nam   149       150              150         150        150      150   \n",
      "Nữ    171       173              173         173        173      172   \n",
      "\n",
      "     refer_roommate  Cleanliess  Privacy  \n",
      "Sex                                       \n",
      "Nam             150         150      150  \n",
      "Nữ              173         173      173  \n"
     ]
    }
   ],
   "source": [
    "print(data.groupby('Sex').count())\n",
    "\n",
    "# des_Gender = data.groupby('Sex').count()['Sex']\n",
    "# des_Gender.plot.pie(y = \"USER\")\n",
    "# print(des_Gender)"
   ]
  }
 ],
 "metadata": {
  "kernelspec": {
   "display_name": "Python 3 (ipykernel)",
   "language": "python",
   "name": "python3"
  },
  "language_info": {
   "codemirror_mode": {
    "name": "ipython",
    "version": 3
   },
   "file_extension": ".py",
   "mimetype": "text/x-python",
   "name": "python",
   "nbconvert_exporter": "python",
   "pygments_lexer": "ipython3",
   "version": "3.10.5"
  },
  "vscode": {
   "interpreter": {
    "hash": "a5a69eaf87245e1844a0e13b0487861f7b6dfd85a35dd676dc2bef9c788d763d"
   }
  }
 },
 "nbformat": 4,
 "nbformat_minor": 2
}
