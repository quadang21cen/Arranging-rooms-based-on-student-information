{
 "cells": [
  {
   "cell_type": "code",
   "execution_count": 28,
   "metadata": {},
   "outputs": [],
   "source": [
    "import pandas as pd"
   ]
  },
  {
   "cell_type": "code",
   "execution_count": 29,
   "metadata": {},
   "outputs": [
    {
     "name": "stdout",
     "output_type": "stream",
     "text": [
      "       Cleanliess     Privacy\n",
      "count  309.000000  309.000000\n",
      "mean     8.064725    7.864078\n",
      "std      1.477873    2.113878\n",
      "min      1.000000    1.000000\n",
      "25%      7.000000    7.000000\n",
      "50%      8.000000    8.000000\n",
      "75%      9.000000   10.000000\n",
      "max     10.000000   10.000000\n"
     ]
    }
   ],
   "source": [
    "data = pd.read_csv(\"C:\\\\Users\\\\quach\\\\Desktop\\\\Personal\\\\FPT University\\\\SEMESTER 9\\\\Dataset\\\\Student_Ins.csv\")\n",
    "print(data.describe())"
   ]
  },
  {
   "cell_type": "code",
   "execution_count": 30,
   "metadata": {},
   "outputs": [
    {
     "name": "stdout",
     "output_type": "stream",
     "text": [
      "     Name  Hometown  Major  Bio_personality  food_drink  hob_inter  smoking  \\\n",
      "Sex                                                                           \n",
      "Nam   140       141    139              141         141        141      141   \n",
      "Nữ    166       168    163              168         168        168      167   \n",
      "\n",
      "     refer_roommate  Cleanliess  Privacy  \n",
      "Sex                                       \n",
      "Nam             141         141      141  \n",
      "Nữ              168         168      168  \n"
     ]
    }
   ],
   "source": [
    "print(data.groupby('Sex').count())"
   ]
  }
 ],
 "metadata": {
  "kernelspec": {
   "display_name": "Python 3 (ipykernel)",
   "language": "python",
   "name": "python3"
  },
  "language_info": {
   "codemirror_mode": {
    "name": "ipython",
    "version": 3
   },
   "file_extension": ".py",
   "mimetype": "text/x-python",
   "name": "python",
   "nbconvert_exporter": "python",
   "pygments_lexer": "ipython3",
   "version": "3.10.5"
  },
  "vscode": {
   "interpreter": {
    "hash": "a5a69eaf87245e1844a0e13b0487861f7b6dfd85a35dd676dc2bef9c788d763d"
   }
  }
 },
 "nbformat": 4,
 "nbformat_minor": 2
}
