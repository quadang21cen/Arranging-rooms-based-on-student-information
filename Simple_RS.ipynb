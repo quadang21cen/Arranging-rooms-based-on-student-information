{
 "cells": [
  {
   "cell_type": "code",
   "execution_count": 1,
   "metadata": {},
   "outputs": [
    {
     "name": "stdout",
     "output_type": "stream",
     "text": [
      "FINISH...\n"
     ]
    }
   ],
   "source": [
    "import pandas as pd\n",
    "import random\n",
    "from NLP.Data_Augmentation import Data_Augmentation\n",
    "\n",
    "class user_Generator:\n",
    "    def __init__(self, path) -> None:\n",
    "        self.data = pd.read_csv(path)\n",
    "        self.regions = pd.read_csv(\"pre_processing\\\\Map_of_regions.csv\").to_numpy().flatten()\n",
    "        self.hob_inter_list = Data_Augmentation.StringAugmentation().augment(self.data['hob_inter'].to_numpy())\n",
    "        self.Bio_personality = Data_Augmentation.StringAugmentation().augment(self.data['Bio_personality'].to_numpy())\n",
    "        self.food_drink = Data_Augmentation.StringAugmentation().augment(self.data['food_drink'].to_numpy())\n",
    "        self.refer_roommate = Data_Augmentation.StringAugmentation().augment(self.data['refer_roommate'].to_numpy())\n",
    "    \n",
    "    def gen_user(self, size):\n",
    "        gen_user_list = []\n",
    "        for i in range(0,size):\n",
    "            gen_user_list.append(self.random_pick()) \n",
    "        return gen_user_list\n",
    "\n",
    "    def gen_infor(self, random_list):\n",
    "        str_rs = \"\"\n",
    "        for i in range(0,random.randrange(1,6)):\n",
    "            str_rs = str_rs + \" \" + random.choice(random_list)\n",
    "        return str_rs\n",
    "        \n",
    "    def random_pick(self):\n",
    "        ran_Hometown = random.choice(self.regions)\n",
    "        ran_cleaness = random.randrange(1,10)\n",
    "        ran_privacy = random.randrange(1,10)\n",
    "        ran_hob_inter = self.gen_infor(self.hob_inter_list)\n",
    "        ran_refer_roommate = self.gen_infor(self.hob_inter_list)\n",
    "        ran_Bio_personality = self.gen_infor(self.Bio_personality)\n",
    "        ran_food_drink = self.gen_infor(self.food_drink)\n",
    "        return [ran_Hometown,ran_Bio_personality,ran_food_drink,ran_hob_inter,random.randrange(0,2),ran_refer_roommate,random.randrange(0,11),random.randrange(0,11)]\n",
    "\n",
    "    def get_random_hobby(self):\n",
    "        return random.choice(self.hobby_list)\n",
    "\n",
    "if __name__ == \"__main__\":\n",
    "    gen = user_Generator(\"C:\\\\Users\\\\quach\\\\Desktop\\\\Personal\\\\FPT University\\\\SEMESTER 9\\\\Dataset\\\\student_data.csv\")\n",
    "    new_user = gen.gen_user(10000)\n",
    "    df = pd.DataFrame(new_user, columns = [ 'Hometown', 'Bio_personality','food_drink',\n",
    "                                            'hob_inter','smoking','refer_roommate','Cleanliess','Privacy'])\n",
    "    df.to_csv('argu.csv')\n",
    "    print(\"FINISH...\")"
   ]
  }
 ],
 "metadata": {
  "kernelspec": {
   "display_name": "Python 3 (ipykernel)",
   "language": "python",
   "name": "python3"
  },
  "language_info": {
   "codemirror_mode": {
    "name": "ipython",
    "version": 3
   },
   "file_extension": ".py",
   "mimetype": "text/x-python",
   "name": "python",
   "nbconvert_exporter": "python",
   "pygments_lexer": "ipython3",
   "version": "3.10.5"
  },
  "vscode": {
   "interpreter": {
    "hash": "a5a69eaf87245e1844a0e13b0487861f7b6dfd85a35dd676dc2bef9c788d763d"
   }
  }
 },
 "nbformat": 4,
 "nbformat_minor": 2
}
