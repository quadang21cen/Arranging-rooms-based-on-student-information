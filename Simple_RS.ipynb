{
 "cells": [
  {
   "cell_type": "code",
   "execution_count": 35,
   "metadata": {},
   "outputs": [
    {
     "name": "stdout",
     "output_type": "stream",
     "text": [
      "['Bac Kan']\n",
      "     Sex    Hometown               Major  \\\n",
      "0    Nam        Vinh    Trí tuệ nhân tạo   \n",
      "1    Nam    Bạc Liêu   Trí Tuệ Nhân Tạo    \n",
      "2     Nữ    Biên Hòa             kế toán   \n",
      "3     Nữ    Vũng Tàu     Thiết Kế Đồ họa   \n",
      "4    Nam      Hà Nội   Kỹ thuật phần mềm   \n",
      "..   ...         ...                 ...   \n",
      "166  Nam     Gia Lai   Kỹ thuật phần mềm   \n",
      "167   Nữ    Đồng Nai   Digital Marketing   \n",
      "168  Nam  Binh Thuan   Kỹ thuật phần mềm   \n",
      "169   Nữ  Kiên Giang   Kỹ thuật phần mềm   \n",
      "170  Nam    Bạc Liêu   Trí Tuệ Nhân Tạo    \n",
      "\n",
      "                                       Bio_personality  \\\n",
      "0    Người đang học trường FPT, là người ít nói chuyện   \n",
      "1          mình là một người hướng nội, ít nói chuyện    \n",
      "2    hướng ngoại, đôi khi hướng nội, tính cách thất...   \n",
      "3    mình là một người thích vẽ năng động, và thích...   \n",
      "4                                            Hướng nội   \n",
      "..                                                 ...   \n",
      "166  là một người ít nói, thích đi ra quán cafe để ...   \n",
      "167             hướng nội, khó bắt chuyện với người lạ   \n",
      "168     một người ít nói hướng nội và thích ở một mình   \n",
      "169     một người ít nói hướng nội và thích ở một mình   \n",
      "170        mình là một người hướng nội, ít nói chuyện    \n",
      "\n",
      "                                            food_drink  \\\n",
      "0                                  thích ăn món mì cay   \n",
      "1      thích ăn mì cay, uống caffee vào mỗi buổi sáng    \n",
      "2    mình ăn uống healthy nền chỉ uống nước ép trái...   \n",
      "3    mình rất thích đồ ăn vặt và đồ nướng và đặt bi...   \n",
      "4                                                Pizza   \n",
      "..                                                 ...   \n",
      "166                          pepsi, thịt sườn, thịt bò   \n",
      "167  bánh mì kẹp các loại, snack khoai tây, kem ốc ...   \n",
      "168                                 coca cola, đồ ngọt   \n",
      "169                                            trà sữa   \n",
      "170    thích ăn mì cay, uống caffee vào mỗi buổi sáng    \n",
      "\n",
      "                                             hob_inter smoking  \\\n",
      "0                                     cờ vua, cờ tướng   không   \n",
      "1              thích khoa học, thích đá bóng, bơi lội.   không   \n",
      "2    mình thích chạy bộ vào buổi sáng, đánh cầu lôn...   không   \n",
      "3    mình rất thích nghệ thuật và thường hay quan t...   không   \n",
      "4                                        Thích đá bóng   không   \n",
      "..                                                 ...     ...   \n",
      "166                                    thích chơi game   không   \n",
      "167  phim hành động, nghe nhạc, các chương trình gi...   không   \n",
      "168                                          chơi game   không   \n",
      "169                                               toán   không   \n",
      "170            thích khoa học, thích đá bóng, bơi lội.   không   \n",
      "\n",
      "                                        refer_roommate  Cleanliess  Privacy  \n",
      "0                               người có tính hòa đồng           5        8  \n",
      "1    mong muốn được ở cùng với người có sở thích kh...           5        8  \n",
      "2    thích bạn cùng phòng dễ thương, hiền lành, hòa...          10       10  \n",
      "3    mong muốn được ở cùng phòng với một người có s...           8        4  \n",
      "4                                             Vui tính          10       10  \n",
      "..                                                 ...         ...      ...  \n",
      "166                                    sạch sẽ, vui vẻ           7       10  \n",
      "167                     vui tính, hòa đồng, dễ tính...           7        9  \n",
      "168                           người vui tính, hòa đồng           8       10  \n",
      "169                                           hòa đồng           9        9  \n",
      "170  mong muốn được ở cùng với người có sở thích kh...           5        8  \n",
      "\n",
      "[171 rows x 10 columns]\n",
      "FINISH...\n"
     ]
    }
   ],
   "source": [
    "import pandas as pd\n",
    "import random\n",
    "\n",
    "\n",
    "class user_Generator:\n",
    "    def __init__(self, path) -> None:\n",
    "        self.data = pd.read_csv(path)\n",
    "        self.regions = pd.read_csv(\"pre_processing\\\\Map_of_regions.csv\").to_numpy()\n",
    "\n",
    "    def gen_user(self, size):\n",
    "        df_new_users = self.data.drop('Name',axis=1)\n",
    "        return df_new_users\n",
    "    \n",
    "    def random_pick(self):\n",
    "        ran_region = random.choice(self.regions)\n",
    "        ran_user = []\n",
    "\n",
    "        return 0\n",
    "\n",
    "if __name__ == \"__main__\":\n",
    "    gen = user_Generator(\"C:\\\\Users\\\\quach\\\\Desktop\\\\Personal\\\\FPT University\\\\SEMESTER 9\\\\Dataset\\\\student_data.csv\")\n",
    "    # print(random.randrange(3, 9))\n",
    "    print(random.choice(gen.regions))\n",
    "    print(gen.gen_user(200))\n",
    "    print(\"FINISH...\")"
   ]
  }
 ],
 "metadata": {
  "kernelspec": {
   "display_name": "Python 3 (ipykernel)",
   "language": "python",
   "name": "python3"
  },
  "language_info": {
   "codemirror_mode": {
    "name": "ipython",
    "version": 3
   },
   "file_extension": ".py",
   "mimetype": "text/x-python",
   "name": "python",
   "nbconvert_exporter": "python",
   "pygments_lexer": "ipython3",
   "version": "3.10.5"
  },
  "vscode": {
   "interpreter": {
    "hash": "a5a69eaf87245e1844a0e13b0487861f7b6dfd85a35dd676dc2bef9c788d763d"
   }
  }
 },
 "nbformat": 4,
 "nbformat_minor": 2
}
