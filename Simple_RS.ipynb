{
 "cells": [
  {
   "cell_type": "code",
   "execution_count": 4,
   "metadata": {},
   "outputs": [
    {
     "name": "stdout",
     "output_type": "stream",
     "text": [
      "        Albert Ekko Yasuo Lee Sin Nekko Nasus David  Zed Yumi Lesus\n",
      "Albert       1  NaN   NaN     NaN   NaN   NaN   NaN  NaN  NaN   NaN\n",
      "Ekko       NaN  NaN   NaN     NaN   NaN   NaN   NaN  NaN  NaN   NaN\n",
      "Yasuo      NaN  NaN   NaN     NaN   NaN   NaN   NaN  NaN  NaN   NaN\n",
      "Lee Sin    NaN  NaN   NaN     NaN   NaN   NaN   NaN  NaN  NaN   NaN\n",
      "Nekko      NaN  NaN   NaN     NaN   NaN   NaN   NaN  NaN  NaN   NaN\n",
      "Nasus      NaN  NaN   NaN     NaN   NaN   NaN   NaN  NaN  NaN   NaN\n",
      "David      NaN  NaN   NaN     NaN   NaN   NaN   NaN  NaN  NaN   NaN\n",
      "Zed        NaN  NaN   NaN     NaN   NaN   NaN   NaN  NaN  NaN   NaN\n",
      "Yumi       NaN  NaN   NaN     NaN   NaN   NaN   NaN  NaN  NaN   NaN\n",
      "Lesus      NaN  NaN   NaN     NaN   NaN   NaN   NaN  NaN  NaN   NaN\n"
     ]
    }
   ],
   "source": [
    "import pandas as pd\n",
    "from scipy.spatial.distance import cosine\n",
    "import numpy as np\n",
    " \n",
    "# --- Read Data --- #\n",
    "data = pd.read_csv('data_2.csv')\n",
    "all_user = data.iloc[:,:1].to_numpy().flatten()\n",
    "SIM_matrix = pd.DataFrame(index=all_user,columns=all_user)\n",
    "SIM_matrix.iloc[0][0] = 1\n",
    "print(SIM_matrix)"
   ]
  },
  {
   "cell_type": "code",
   "execution_count": 5,
   "metadata": {},
   "outputs": [],
   "source": [
    "def corr_cosine(util_matrix):\n",
    "    for i in range(0,util_matrix.__len__()):\n",
    "        for j in range(0,util_matrix.__len__()):\n",
    "            SIM_matrix.iloc[i][j] = cosine(util_matrix.iloc[i,1:].to_numpy(),util_matrix.iloc[j,1:].to_numpy())\n",
    "    SIM_matrix.to_csv(\"SIM_matrix_.csv\")\n",
    "\n",
    "def corr_euclidean(util_matrix):\n",
    "    for i in range(0,util_matrix.__len__()):\n",
    "        for j in range(0,util_matrix.__len__()):\n",
    "            SIM_matrix.iloc[i][j] = np.linalg.norm(util_matrix.iloc[i,1:].to_numpy() - util_matrix.iloc[j,1:].to_numpy())\n",
    "    SIM_matrix.to_csv(\"SIM_matrix_1.csv\")\n"
   ]
  },
  {
   "cell_type": "code",
   "execution_count": 6,
   "metadata": {},
   "outputs": [],
   "source": [
    "corr_euclidean(data)"
   ]
  },
  {
   "cell_type": "code",
   "execution_count": null,
   "metadata": {},
   "outputs": [],
   "source": []
  }
 ],
 "metadata": {
  "kernelspec": {
   "display_name": "Python 3.10.5 64-bit",
   "language": "python",
   "name": "python3"
  },
  "language_info": {
   "codemirror_mode": {
    "name": "ipython",
    "version": 3
   },
   "file_extension": ".py",
   "mimetype": "text/x-python",
   "name": "python",
   "nbconvert_exporter": "python",
   "pygments_lexer": "ipython3",
   "version": "3.10.5"
  },
  "orig_nbformat": 4,
  "vscode": {
   "interpreter": {
    "hash": "a5a69eaf87245e1844a0e13b0487861f7b6dfd85a35dd676dc2bef9c788d763d"
   }
  }
 },
 "nbformat": 4,
 "nbformat_minor": 2
}
