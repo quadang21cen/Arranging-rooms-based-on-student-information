{
 "cells": [
  {
   "cell_type": "code",
   "execution_count": 6,
   "metadata": {},
   "outputs": [],
   "source": [
    "from sklearn.cluster import KMeans\n",
    "import numpy as np\n",
    "import pandas as pd\n",
    "import random"
   ]
  },
  {
   "cell_type": "code",
   "execution_count": 7,
   "metadata": {},
   "outputs": [
    {
     "name": "stdout",
     "output_type": "stream",
     "text": [
      "0       Vinh Phuc\n",
      "1        Bac Lieu\n",
      "2       Thanh Hoa\n",
      "3        Vung Tau\n",
      "4        Ha Giang\n",
      "          ...    \n",
      "318    Binh Phuoc\n",
      "319     Thai Binh\n",
      "320      Bac Lieu\n",
      "321     Hai Duong\n",
      "322      Hoa Binh\n",
      "Name: Hometown, Length: 323, dtype: object\n"
     ]
    }
   ],
   "source": [
    "df = pd.read_csv(\"C:\\\\Users\\\\quach\\\\Desktop\\\\Personal\\\\FPT University\\\\SEMESTER 9\\\\Dataset\\\\FINAL_Data_set_FixHW.csv\")\n",
    "print(df[\"Hometown\"])"
   ]
  },
  {
   "cell_type": "code",
   "execution_count": 8,
   "metadata": {},
   "outputs": [],
   "source": [
    "# def gen_number(col):\n",
    "#     df = pd.read_csv(\"C:\\\\Users\\\\quach\\\\Desktop\\\\Personal\\\\FPT University\\\\SEMESTER 9\\\\Dataset\\\\FINAL_Data_set_FixHW.csv\")\n",
    "#     df1 = df.groupby(col).count()[[\"Name\"]].rename(columns= {'Name':'Count'})\n",
    "#     df1 = df1.rename_axis(col).reset_index()\n",
    "#     # df3 = pd.concat([df1,pd.DataFrame([[2,1]], columns=[col, 'Count'])])\n",
    "#     df1[\"Percent\"] = df1['Count']/df1[\"Count\"].sum()\n",
    "#     return df1\n",
    "# print(gen_number('Hometown'))"
   ]
  },
  {
   "cell_type": "code",
   "execution_count": 9,
   "metadata": {},
   "outputs": [],
   "source": [
    "\n",
    "# def gen_number(col):\n",
    "#     df = pd.read_csv(\"C:\\\\Users\\\\quach\\\\Desktop\\\\Personal\\\\FPT University\\\\SEMESTER 9\\\\Dataset\\\\Student_Ins.csv\")\n",
    "#     df1 = df.groupby(col).count()[[\"Name\"]].rename(columns= {'Name':'Count'})\n",
    "#     df1 = df1.rename_axis(col).reset_index()\n",
    "#     df3 = pd.concat([df1,pd.DataFrame([[2,1]], columns=[col, 'Count'])])\n",
    "#     df3[\"Percent\"] = df3['Count']/df3[\"Count\"].sum()\n",
    "#     return df3"
   ]
  },
  {
   "cell_type": "code",
   "execution_count": 10,
   "metadata": {},
   "outputs": [],
   "source": [
    "# df3 = gen_number(\"Privacy\")\n",
    "# print(df3)\n",
    "# print(np.random.choice(df3['smoking'].to_numpy(), p=df3['Percent'].to_numpy()))"
   ]
  }
 ],
 "metadata": {
  "kernelspec": {
   "display_name": "Python 3 (ipykernel)",
   "language": "python",
   "name": "python3"
  },
  "language_info": {
   "codemirror_mode": {
    "name": "ipython",
    "version": 3
   },
   "file_extension": ".py",
   "mimetype": "text/x-python",
   "name": "python",
   "nbconvert_exporter": "python",
   "pygments_lexer": "ipython3",
   "version": "3.10.5"
  },
  "vscode": {
   "interpreter": {
    "hash": "a5a69eaf87245e1844a0e13b0487861f7b6dfd85a35dd676dc2bef9c788d763d"
   }
  }
 },
 "nbformat": 4,
 "nbformat_minor": 2
}
