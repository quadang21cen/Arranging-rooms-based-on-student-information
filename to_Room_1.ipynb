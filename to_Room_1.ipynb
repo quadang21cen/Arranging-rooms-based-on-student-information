{
 "cells": [
  {
   "cell_type": "code",
   "execution_count": 65,
   "metadata": {},
   "outputs": [],
   "source": [
    "from sklearn.cluster import KMeans\n",
    "import numpy as np\n",
    "import pandas as pd\n",
    "import random"
   ]
  },
  {
   "cell_type": "code",
   "execution_count": 66,
   "metadata": {},
   "outputs": [
    {
     "name": "stdout",
     "output_type": "stream",
     "text": [
      "        Hometown  Count   Percent\n",
      "0       An Giang      5  0.015625\n",
      "1      Bac Giang      1  0.003125\n",
      "2       Bac Lieu     22  0.068750\n",
      "3       Bac Ninh      3  0.009375\n",
      "4        Ben Tre      3  0.009375\n",
      "5      Binh Dinh      7  0.021875\n",
      "6     Binh Duong      5  0.015625\n",
      "7     Binh Phuoc     16  0.050000\n",
      "8     Binh Thuan      9  0.028125\n",
      "9         Ca Mau     13  0.040625\n",
      "10      Cao Bang      1  0.003125\n",
      "11       Dak Lak      1  0.003125\n",
      "12      Dak Nong      6  0.018750\n",
      "13     Dien Bien      1  0.003125\n",
      "14      Dong Nai      1  0.003125\n",
      "15     Dong Thap      5  0.015625\n",
      "16       Gia Lai      6  0.018750\n",
      "17      Ha Giang     22  0.068750\n",
      "18        Ha Nam      1  0.003125\n",
      "19       Ha Tinh      8  0.025000\n",
      "20     Hai Duong      8  0.025000\n",
      "21    Hau Giang       1  0.003125\n",
      "22      Hoa Binh     18  0.056250\n",
      "23      Hung Yen      7  0.021875\n",
      "24     Khanh Hoa      5  0.015625\n",
      "25    Kien Giang      5  0.015625\n",
      "26       Kon Tum      4  0.012500\n",
      "27      Lam Dong      5  0.015625\n",
      "28       Lao Cai     13  0.040625\n",
      "29       Long An      6  0.018750\n",
      "30     Nam Dinh       6  0.018750\n",
      "31       Nghe An      3  0.009375\n",
      "32     Ninh Binh      1  0.003125\n",
      "33    Ninh Thuan      6  0.018750\n",
      "34       Phu Tho      7  0.021875\n",
      "35       Phu Yen      4  0.012500\n",
      "36    Quang Binh      1  0.003125\n",
      "37     Quang Nam      8  0.025000\n",
      "38    Quang Ngai     14  0.043750\n",
      "39    Quang Ninh      1  0.003125\n",
      "40     Quang Tri      3  0.009375\n",
      "41     Soc Trang      2  0.006250\n",
      "42        Son La      4  0.012500\n",
      "43      Tay Ninh      2  0.006250\n",
      "44     Thai Binh      6  0.018750\n",
      "45  Thai Nguyen       1  0.003125\n",
      "46     Thanh Hoa     17  0.053125\n",
      "47    Tien Giang      7  0.021875\n",
      "48      Tra Vinh      3  0.009375\n",
      "49     Vinh Long      2  0.006250\n",
      "50     Vinh Phuc      4  0.012500\n",
      "51      Vung Tau     10  0.031250\n"
     ]
    }
   ],
   "source": [
    "def gen_number(col):\n",
    "    df = pd.read_csv(\"C:\\\\Users\\\\quach\\\\Desktop\\\\Personal\\\\FPT University\\\\SEMESTER 9\\\\Dataset\\\\FINAL_Data_set_FixHW.csv\")\n",
    "    df1 = df.groupby(col).count()[[\"Name\"]].rename(columns= {'Name':'Count'})\n",
    "    df1 = df1.rename_axis(col).reset_index()\n",
    "    # df3 = pd.concat([df1,pd.DataFrame([[2,1]], columns=[col, 'Count'])])\n",
    "    df1[\"Percent\"] = df1['Count']/df1[\"Count\"].sum()\n",
    "    return df1\n",
    "print(gen_number('Hometown'))"
   ]
  },
  {
   "cell_type": "code",
   "execution_count": 67,
   "metadata": {},
   "outputs": [],
   "source": [
    "\n",
    "# def gen_number(col):\n",
    "#     df = pd.read_csv(\"C:\\\\Users\\\\quach\\\\Desktop\\\\Personal\\\\FPT University\\\\SEMESTER 9\\\\Dataset\\\\Student_Ins.csv\")\n",
    "#     df1 = df.groupby(col).count()[[\"Name\"]].rename(columns= {'Name':'Count'})\n",
    "#     df1 = df1.rename_axis(col).reset_index()\n",
    "#     df3 = pd.concat([df1,pd.DataFrame([[2,1]], columns=[col, 'Count'])])\n",
    "#     df3[\"Percent\"] = df3['Count']/df3[\"Count\"].sum()\n",
    "#     return df3"
   ]
  },
  {
   "cell_type": "code",
   "execution_count": 68,
   "metadata": {},
   "outputs": [],
   "source": [
    "# df3 = gen_number(\"Privacy\")\n",
    "# print(df3)\n",
    "# print(np.random.choice(df3['smoking'].to_numpy(), p=df3['Percent'].to_numpy()))"
   ]
  }
 ],
 "metadata": {
  "kernelspec": {
   "display_name": "Python 3 (ipykernel)",
   "language": "python",
   "name": "python3"
  },
  "language_info": {
   "codemirror_mode": {
    "name": "ipython",
    "version": 3
   },
   "file_extension": ".py",
   "mimetype": "text/x-python",
   "name": "python",
   "nbconvert_exporter": "python",
   "pygments_lexer": "ipython3",
   "version": "3.10.5"
  },
  "vscode": {
   "interpreter": {
    "hash": "a5a69eaf87245e1844a0e13b0487861f7b6dfd85a35dd676dc2bef9c788d763d"
   }
  }
 },
 "nbformat": 4,
 "nbformat_minor": 2
}
