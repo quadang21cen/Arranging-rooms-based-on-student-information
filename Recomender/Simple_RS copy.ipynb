{
 "cells": [
  {
   "cell_type": "code",
   "execution_count": 2,
   "metadata": {},
   "outputs": [
    {
     "name": "stdout",
     "output_type": "stream",
     "text": [
      "Int64Index([  0,   1,   4,   5,   7,   9,  10,  11,  17,  18,\n",
      "            ...\n",
      "            308, 309, 311, 312, 313, 314, 316, 320, 321, 322],\n",
      "           dtype='int64', length=150)\n"
     ]
    }
   ],
   "source": [
    "import pandas as pd\n",
    "\n",
    "data = pd.read_csv('C:\\\\Users\\\\quach\\\\Desktop\\\\Personal\\\\FPT University\\\\SEMESTER 9\\\\Dataset\\\\FINAL_Data_set_FixHW.csv')\n",
    "gender_seperation = 1\n",
    "male = data[data['Sex'] == 'Nam']\n",
    "# filter_1 = data['Sex'] == 'Nam'\n",
    "# if gender_seperation == 1:\n",
    "#     \n",
    "#     female = data[data['Sex'] == 'Nữ']\n",
    "#     female_cor = None\n",
    "#     male_cor = None\n",
    "# elif gender_seperation == 0:\n",
    "#     data_cor =None\n",
    "# female = data.where(filter_1, inplace = True)\n",
    "# print(female)"
   ]
  },
  {
   "cell_type": "code",
   "execution_count": null,
   "metadata": {},
   "outputs": [],
   "source": []
  }
 ],
 "metadata": {
  "kernelspec": {
   "display_name": "Python 3.10.5 64-bit",
   "language": "python",
   "name": "python3"
  },
  "language_info": {
   "codemirror_mode": {
    "name": "ipython",
    "version": 3
   },
   "file_extension": ".py",
   "mimetype": "text/x-python",
   "name": "python",
   "nbconvert_exporter": "python",
   "pygments_lexer": "ipython3",
   "version": "3.10.5 (tags/v3.10.5:f377153, Jun  6 2022, 16:14:13) [MSC v.1929 64 bit (AMD64)]"
  },
  "orig_nbformat": 4,
  "vscode": {
   "interpreter": {
    "hash": "a5a69eaf87245e1844a0e13b0487861f7b6dfd85a35dd676dc2bef9c788d763d"
   }
  }
 },
 "nbformat": 4,
 "nbformat_minor": 2
}
