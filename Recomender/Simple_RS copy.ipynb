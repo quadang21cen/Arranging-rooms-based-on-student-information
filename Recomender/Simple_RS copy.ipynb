{
 "cells": [
  {
   "cell_type": "code",
   "execution_count": 1,
   "metadata": {},
   "outputs": [
    {
     "name": "stdout",
     "output_type": "stream",
     "text": [
      "     0    1    2    3    4    5    6    7    8    9    ...  299  300  301  \\\n",
      "0    NaN  NaN  NaN  NaN  NaN  NaN  NaN  NaN  NaN  NaN  ...  NaN  NaN  NaN   \n",
      "1    NaN  NaN  NaN  NaN  NaN  NaN  NaN  NaN  NaN  NaN  ...  NaN  NaN  NaN   \n",
      "2    NaN  NaN  NaN  NaN  NaN  NaN  NaN  NaN  NaN  NaN  ...  NaN  NaN  NaN   \n",
      "3    NaN  NaN  NaN  NaN  NaN  NaN  NaN  NaN  NaN  NaN  ...  NaN  NaN  NaN   \n",
      "4    NaN  NaN  NaN  NaN  NaN  NaN  NaN  NaN  NaN  NaN  ...  NaN  NaN  NaN   \n",
      "..   ...  ...  ...  ...  ...  ...  ...  ...  ...  ...  ...  ...  ...  ...   \n",
      "304  NaN  NaN  NaN  NaN  NaN  NaN  NaN  NaN  NaN  NaN  ...  NaN  NaN  NaN   \n",
      "305  NaN  NaN  NaN  NaN  NaN  NaN  NaN  NaN  NaN  NaN  ...  NaN  NaN  NaN   \n",
      "306  NaN  NaN  NaN  NaN  NaN  NaN  NaN  NaN  NaN  NaN  ...  NaN  NaN  NaN   \n",
      "307  NaN  NaN  NaN  NaN  NaN  NaN  NaN  NaN  NaN  NaN  ...  NaN  NaN  NaN   \n",
      "308  NaN  NaN  NaN  NaN  NaN  NaN  NaN  NaN  NaN  NaN  ...  NaN  NaN  NaN   \n",
      "\n",
      "     302  303  304  305  306  307  308  \n",
      "0    NaN  NaN  NaN  NaN  NaN  NaN  NaN  \n",
      "1    NaN  NaN  NaN  NaN  NaN  NaN  NaN  \n",
      "2    NaN  NaN  NaN  NaN  NaN  NaN  NaN  \n",
      "3    NaN  NaN  NaN  NaN  NaN  NaN  NaN  \n",
      "4    NaN  NaN  NaN  NaN  NaN  NaN  NaN  \n",
      "..   ...  ...  ...  ...  ...  ...  ...  \n",
      "304  NaN  NaN  NaN  NaN  NaN  NaN  NaN  \n",
      "305  NaN  NaN  NaN  NaN  NaN  NaN  NaN  \n",
      "306  NaN  NaN  NaN  NaN  NaN  NaN  NaN  \n",
      "307  NaN  NaN  NaN  NaN  NaN  NaN  NaN  \n",
      "308  NaN  NaN  NaN  NaN  NaN  NaN  NaN  \n",
      "\n",
      "[309 rows x 309 columns]\n"
     ]
    }
   ],
   "source": [
    "import pandas as pd\n",
    "\n",
    "data = pd.read_csv('C:\\\\Users\\\\quach\\\\Desktop\\\\Personal\\\\FPT University\\\\SEMESTER 9\\\\Dataset\\\\student_ins.csv')\n",
    "a = data.index.value_counts\n",
    "\n",
    "b = pd.DataFrame(index=data.index,columns=data.index)\n",
    "\n",
    "print(b)\n",
    "    \n"
   ]
  },
  {
   "cell_type": "code",
   "execution_count": null,
   "metadata": {},
   "outputs": [],
   "source": []
  }
 ],
 "metadata": {
  "kernelspec": {
   "display_name": "Python 3.10.5 64-bit",
   "language": "python",
   "name": "python3"
  },
  "language_info": {
   "codemirror_mode": {
    "name": "ipython",
    "version": 3
   },
   "file_extension": ".py",
   "mimetype": "text/x-python",
   "name": "python",
   "nbconvert_exporter": "python",
   "pygments_lexer": "ipython3",
   "version": "3.10.5"
  },
  "orig_nbformat": 4,
  "vscode": {
   "interpreter": {
    "hash": "a5a69eaf87245e1844a0e13b0487861f7b6dfd85a35dd676dc2bef9c788d763d"
   }
  }
 },
 "nbformat": 4,
 "nbformat_minor": 2
}
