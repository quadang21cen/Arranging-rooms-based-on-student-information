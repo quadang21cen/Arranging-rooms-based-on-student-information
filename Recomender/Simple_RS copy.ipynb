{
 "cells": [
  {
   "cell_type": "code",
   "execution_count": 11,
   "metadata": {},
   "outputs": [
    {
     "name": "stdout",
     "output_type": "stream",
     "text": [
      "     Unnamed: 0                     Name Sex    Hometown  \\\n",
      "2             2       Nguyễn Thanh Hương  Nữ   Thanh Hoa   \n",
      "3             3             Lê Thanh Nam  Nữ    Vung Tau   \n",
      "6             6         Mã Thị Mai Huỳnh  Nữ    Bac Lieu   \n",
      "8             8             Lê Linh Minh  Nữ    Ha Giang   \n",
      "12           12             Đào Bảo Trâm  Nữ   Thanh Hoa   \n",
      "..          ...                      ...  ..         ...   \n",
      "310         310    Nguyễn Lâm Thanh Ngân  Nữ   Quang Nam   \n",
      "315         315    Nguyễn Thị Thuý Linh   Nữ  Binh Phuoc   \n",
      "317         317          Trịnh Lê Phương  Nữ   Thanh Hoa   \n",
      "318         318  Đàm Nguyễn Phương Uyên   Nữ  Binh Phuoc   \n",
      "319         319           TRẦN THỊ NHUNG  Nữ   Thai Binh   \n",
      "\n",
      "                                       Bio_personality  \\\n",
      "2    hướng ngoại, đôi khi hướng nội, tính cách thất...   \n",
      "3    mình là một người thích vẽ năng động, và thích...   \n",
      "6    Hướng ngoại 65% và hướng nội 35%, tôi thích nó...   \n",
      "8          Hướng nội thích ở 1 mình, ko thích  đi chơi   \n",
      "12   Hướng ngoại nhưng có xu hướng thích ở một mình...   \n",
      "..                                                 ...   \n",
      "310        hướng ngoại và thích giao lưu với mọi nguời   \n",
      "315                Là một người hướng ngoại nói nhiều    \n",
      "317         Là người Hướng lung tung, ngày ngủ đêm bay   \n",
      "318                                         Hướng nội    \n",
      "319  E là một người khá tự ti , rụt rè , ít nói và ...   \n",
      "\n",
      "                                            food_drink  \\\n",
      "2    mình ăn uống healthy nền chỉ uống nước ép trái...   \n",
      "3    mình rất thích đồ ăn vặt và đồ nướng và đặt bi...   \n",
      "6                        Socola ngọt ngào có chút đắng   \n",
      "8                               Ăn cơm gia đình tự nấu   \n",
      "12                Đồ ăn vặt hoặc đồ hàn, nhật, đồ ngọt   \n",
      "..                                                 ...   \n",
      "310                       ốc, mì cay, lẩu, và trà sữa    \n",
      "315                                           Trà sữa    \n",
      "317      Thích hamburger, thích ăn cay, thích trà sữa…   \n",
      "318                                        Thịt nướng    \n",
      "319  E thik ăn các loại bánh mỳ , bánh ngọt và các ...   \n",
      "\n",
      "                                             hob_inter smoking  \\\n",
      "2    mình thích chạy bộ vào buổi sáng, đánh cầu lôn...   không   \n",
      "3    mình rất thích nghệ thuật và thường hay quan t...   không   \n",
      "6                                             Đọc sách   không   \n",
      "8                            Xem youtube ngủ nghỉ ngơi   không   \n",
      "12   Bóng rổ, đọc sách, xem phim, âm nhạc ( nghe nh...   không   \n",
      "..                                                 ...     ...   \n",
      "310                                                Võ    không   \n",
      "315                                       Bóng chuyền    không   \n",
      "317                               Thích chơi suốt ngày   không   \n",
      "318                                                Ngủ   không   \n",
      "319             E thik chơi cầu lông , thik chạy bộ ,    không   \n",
      "\n",
      "                                        refer_roommate  Cleanliess  Privacy  \n",
      "2    thích bạn cùng phòng dễ thương, hiền lành, hòa...          10       10  \n",
      "3    mong muốn được ở cùng phòng với một người có s...           8        4  \n",
      "6                 Biết chia sẻ, thông cảm và lắng nghe           8        3  \n",
      "8                                             Yên tĩnh           5        8  \n",
      "12    gọn gàng, trầm tính, cùng chuyên ngành/ sở thích           9        7  \n",
      "..                                                 ...         ...      ...  \n",
      "310                      Cá tính, mạnh mẽ, tâm lý =)))           8        5  \n",
      "315                        Hoạt bát thân thiên vui vẻ            5        4  \n",
      "317                    Người vui tính, cởi mở, sạch sẽ           7        8  \n",
      "318                                           Sạch sẽ            8       10  \n",
      "319  Vd : vui vẻ , tốt bụng , nhiệt tình vs mn , và...           8        8  \n",
      "\n",
      "[173 rows x 11 columns]\n"
     ]
    }
   ],
   "source": [
    "import pandas as pd\n",
    "\n",
    "data = pd.read_csv('C:\\\\Users\\\\quach\\\\Desktop\\\\Personal\\\\FPT University\\\\SEMESTER 9\\\\Dataset\\\\FINAL_Data_set_FixHW.csv')\n",
    "gender_seperation = 1\n",
    "# filter_1 = data['Sex'] == 'Nam'\n",
    "if gender_seperation == 1:\n",
    "    male = data[data['Sex'] == 'Nam']\n",
    "    #print(male)\n",
    "    female = data[data['Sex'] == 'Nữ']\n",
    "    print(female)\n",
    "    female_cor = None\n",
    "    male_cor = None\n",
    "elif gender_seperation == 0:\n",
    "    data_cor =None\n",
    "# female = data.where(filter_1, inplace = True)\n",
    "# print(female)"
   ]
  },
  {
   "cell_type": "code",
   "execution_count": null,
   "metadata": {},
   "outputs": [],
   "source": []
  }
 ],
 "metadata": {
  "kernelspec": {
   "display_name": "Python 3.10.5 64-bit",
   "language": "python",
   "name": "python3"
  },
  "language_info": {
   "codemirror_mode": {
    "name": "ipython",
    "version": 3
   },
   "file_extension": ".py",
   "mimetype": "text/x-python",
   "name": "python",
   "nbconvert_exporter": "python",
   "pygments_lexer": "ipython3",
   "version": "3.10.5"
  },
  "orig_nbformat": 4,
  "vscode": {
   "interpreter": {
    "hash": "a5a69eaf87245e1844a0e13b0487861f7b6dfd85a35dd676dc2bef9c788d763d"
   }
  }
 },
 "nbformat": 4,
 "nbformat_minor": 2
}
