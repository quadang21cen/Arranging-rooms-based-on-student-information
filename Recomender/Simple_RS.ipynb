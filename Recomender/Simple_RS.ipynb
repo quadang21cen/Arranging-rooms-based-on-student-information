{
 "cells": [
  {
   "cell_type": "code",
   "execution_count": 97,
   "metadata": {},
   "outputs": [
    {
     "name": "stdout",
     "output_type": "stream",
     "text": [
      "[[1.         0.45227058]\n",
      " [0.45227058 1.        ]]\n"
     ]
    }
   ],
   "source": [
    "from typing_extensions import Self\n",
    "from cv2 import SimpleBlobDetector_Params\n",
    "import pandas as pd\n",
    "from pip import main\n",
    "from scipy.spatial.distance import cosine\n",
    "import numpy as np\n",
    "from numpy.linalg import norm\n",
    "from sklearn.metrics.pairwise import linear_kernel\n",
    "\n",
    "from TF_IDF.TF_IDF import TF_IDF\n",
    "from sklearn.metrics.pairwise import cosine_similarity\n",
    "\n",
    "class RS:\n",
    "\n",
    "    def __init__(self) -> None:\n",
    "        self.data = pd.read_csv('C:\\\\Users\\\\quach\\\\Desktop\\\\Personal\\\\FPT University\\\\SEMESTER 9\\\\Dataset\\\\student_data.csv')\n",
    "        self.all_user = self.data.iloc[:,:1].to_numpy().flatten()\n",
    "        self.SIM_matrix = pd.DataFrame(index=self.all_user,columns=self.all_user)\n",
    "        self.TF_IDF = TF_IDF()\n",
    "\n",
    "    def corr_cosine(self, util_matrix):\n",
    "        return cosine_similarity(util_matrix,util_matrix)\n",
    "        # SIM_matrix = pd.DataFrame(index=self.all_user,columns=self.all_user)\n",
    "        # for i in range(0,util_matrix.__len__()):\n",
    "        #     for j in range(0,util_matrix.__len__()):\n",
    "        #         SIM_matrix.iloc[i][j] = cosine_similarity(  [util_matrix.iloc[i,1:].to_numpy()],\n",
    "        #                                                     [util_matrix.iloc[j,1:].to_numpy()])\n",
    "        # return SIM_matrix\n",
    "\n",
    "    def corr_euclidean(self, util_matrix):\n",
    "        SIM_matrix = pd.DataFrame(index=self.all_user,columns=self.all_user)\n",
    "        for i in range(0,util_matrix.__len__()):\n",
    "            for j in range(0,util_matrix.__len__()):\n",
    "                SIM_matrix.iloc[i][j] = np.linalg.norm(util_matrix.iloc[i,1:].to_numpy() - util_matrix.iloc[j,1:].to_numpy())\n",
    "        return SIM_matrix\n",
    "\n",
    "    def cosine_sim(self,vec):\n",
    "        return linear_kernel(vec, vec)\n",
    "\n",
    "    def compute_all_corr(self):\n",
    "        SIM_cp = self.data[[\"Cleanliess\",\"Privacy\"]].to_numpy()\n",
    "        print(self.corr_cosine(SIM_cp))\n",
    "\n",
    "        #print(SIM_cp.dot(SIM_cp.T)[0]) # simcp * simcp.T\n",
    "        # cosine_similarity_pd = pd.DataFrame(cosine_similarity, columns = [*range(len(a))])\n",
    "        # print(cosine_similarity_pd)\n",
    "        #print(self.corr_cosine(SIM_cp)[0])\n",
    "        # vec_food_drink = self.TF_IDF.text2vec(self.data[\"food_drink\"])\n",
    "        # return vec_food_drink\n",
    "        #sim_food_drink =  self.corr_euclidean(vec_food_drink)\n",
    "        # return self.cosine_sim(vec,vec)\n",
    "        #corr_matrix()\n",
    "\n",
    "if __name__ == \"__main__\":\n",
    "    # RS = RS()\n",
    "    # RS.compute_all_corr()\n",
    "\n",
    "    # res = RS.compute_all_corr()\n",
    "    # print(res[0])\n",
    "    # print(\"FINISH...\")\n",
    "    # from sklearn.metrics.pairwise import linear_kernel\n",
    "    # a = [[1,2,3]]\n",
    "    # b = [[2,4,5]]\n",
    "    # cosine_similarity = linear_kernel(a, b)\n",
    "    # print(cosine_similarity)\n",
    "\n",
    "    # a = [[1,2,3],[2,9,3]]\n",
    "    # cosine_similarity = linear_kernel(a, a)\n",
    "    # print(cosine_similarity)\n",
    "    # cosine_similarity_pd = pd.DataFrame(cosine_similarity, columns = [*range(len(a))])\n",
    "    # print(cosine_similarity_pd)\n",
    "    \n",
    "    cos = cosine_similarity([[12,41,60,11,21],[40,11,4,11,14]],[[12,41,60,11,21],[40,11,4,11,14]])\n",
    "    print(cos)\n",
    "\n",
    "\n",
    "    "
   ]
  }
 ],
 "metadata": {
  "kernelspec": {
   "display_name": "Python 3.10.5 64-bit",
   "language": "python",
   "name": "python3"
  },
  "language_info": {
   "codemirror_mode": {
    "name": "ipython",
    "version": 3
   },
   "file_extension": ".py",
   "mimetype": "text/x-python",
   "name": "python",
   "nbconvert_exporter": "python",
   "pygments_lexer": "ipython3",
   "version": "3.10.5"
  },
  "orig_nbformat": 4,
  "vscode": {
   "interpreter": {
    "hash": "a5a69eaf87245e1844a0e13b0487861f7b6dfd85a35dd676dc2bef9c788d763d"
   }
  }
 },
 "nbformat": 4,
 "nbformat_minor": 2
}
