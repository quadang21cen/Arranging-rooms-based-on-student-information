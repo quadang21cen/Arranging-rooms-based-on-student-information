{
 "cells": [
  {
   "cell_type": "code",
   "execution_count": 11,
   "metadata": {},
   "outputs": [],
   "source": [
    "from typing_extensions import Self\n",
    "from cv2 import SimpleBlobDetector_Params\n",
    "import pandas as pd\n",
    "from pip import main\n",
    "from scipy.spatial.distance import cosine\n",
    "import numpy as np\n",
    "from sklearn import preprocessing\n",
    "\n",
    "class RS:\n",
    "\n",
    "    def __init__(self) -> None:\n",
    "        self.data = pd.read_csv('C:\\\\Users\\\\quach\\\\Desktop\\\\Personal\\\\FPT University\\\\SEMESTER 9\\\\Dataset\\\\student_data.csv')\n",
    "        self.all_user = self.data.iloc[:,:1].to_numpy().flatten()\n",
    "        self.SIM_matrix = pd.DataFrame(index=self.all_user,columns=self.all_user)\n",
    "\n",
    "    def corr_cosine(self, util_matrix):\n",
    "        SIM_matrix = pd.DataFrame(index=self.all_user,columns=self.all_user)\n",
    "        for i in range(0,util_matrix.__len__()):\n",
    "            for j in range(0,util_matrix.__len__()):\n",
    "                SIM_matrix.iloc[i][j] = cosine(util_matrix.iloc[i,1:].to_numpy(),util_matrix.iloc[j,1:].to_numpy())\n",
    "        return SIM_matrix\n",
    "\n",
    "    def corr_euclidean(self, util_matrix):\n",
    "        SIM_matrix = pd.DataFrame(index=self.all_user,columns=self.all_user)\n",
    "        for i in range(0,util_matrix.__len__()):\n",
    "            for j in range(0,util_matrix.__len__()):\n",
    "                SIM_matrix.iloc[i][j] = np.linalg.norm(util_matrix.iloc[i,1:].to_numpy() - util_matrix.iloc[j,1:].to_numpy())\n",
    "        return SIM_matrix\n",
    "        \n",
    "    def compute_all_corr():\n",
    "        pass\n",
    "\n",
    "    def corr_matrix(self,col):\n",
    "        data = self.data[col]\n",
    "        x = data.values\n",
    "        min_max_scaler = preprocessing.MinMaxScaler()\n",
    "        x_scaled = min_max_scaler.fit_transform(x)\n",
    "        data = pd.DataFrame(x_scaled)\n",
    "        self.corr_euclidean(data)\n",
    "        return self.corr_euclidean(data)\n",
    "    "
   ]
  },
  {
   "cell_type": "code",
   "execution_count": 12,
   "metadata": {},
   "outputs": [],
   "source": [
    "if __name__ == \"__main__\":\n",
    "   class_RS = RS()\n",
    "   class_RS.corr_matrix(['Cleanliess','Privacy'])"
   ]
  }
 ],
 "metadata": {
  "kernelspec": {
   "display_name": "Python 3.10.5 64-bit",
   "language": "python",
   "name": "python3"
  },
  "language_info": {
   "codemirror_mode": {
    "name": "ipython",
    "version": 3
   },
   "file_extension": ".py",
   "mimetype": "text/x-python",
   "name": "python",
   "nbconvert_exporter": "python",
   "pygments_lexer": "ipython3",
   "version": "3.10.5"
  },
  "orig_nbformat": 4,
  "vscode": {
   "interpreter": {
    "hash": "a5a69eaf87245e1844a0e13b0487861f7b6dfd85a35dd676dc2bef9c788d763d"
   }
  }
 },
 "nbformat": 4,
 "nbformat_minor": 2
}
