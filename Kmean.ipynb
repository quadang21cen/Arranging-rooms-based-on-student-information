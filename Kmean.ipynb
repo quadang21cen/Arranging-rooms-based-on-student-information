{
 "cells": [
  {
   "cell_type": "code",
   "execution_count": 107,
   "metadata": {},
   "outputs": [],
   "source": [
    "from sklearn.cluster import KMeans\n",
    "import numpy as np\n",
    "import pandas as pd"
   ]
  },
  {
   "cell_type": "code",
   "execution_count": 108,
   "metadata": {},
   "outputs": [
    {
     "data": {
      "text/html": [
       "<div>\n",
       "<style scoped>\n",
       "    .dataframe tbody tr th:only-of-type {\n",
       "        vertical-align: middle;\n",
       "    }\n",
       "\n",
       "    .dataframe tbody tr th {\n",
       "        vertical-align: top;\n",
       "    }\n",
       "\n",
       "    .dataframe thead th {\n",
       "        text-align: right;\n",
       "    }\n",
       "</style>\n",
       "<table border=\"1\" class=\"dataframe\">\n",
       "  <thead>\n",
       "    <tr style=\"text-align: right;\">\n",
       "      <th></th>\n",
       "      <th>1</th>\n",
       "    </tr>\n",
       "  </thead>\n",
       "  <tbody>\n",
       "    <tr>\n",
       "      <th>0</th>\n",
       "      <td>Nguyễn Tiến Dũng</td>\n",
       "    </tr>\n",
       "    <tr>\n",
       "      <th>1</th>\n",
       "      <td>0.8999998599290848</td>\n",
       "    </tr>\n",
       "    <tr>\n",
       "      <th>2</th>\n",
       "      <td>0.5618423846702685</td>\n",
       "    </tr>\n",
       "    <tr>\n",
       "      <th>3</th>\n",
       "      <td>0.5036944156945999</td>\n",
       "    </tr>\n",
       "    <tr>\n",
       "      <th>4</th>\n",
       "      <td>0.491528523225775</td>\n",
       "    </tr>\n",
       "    <tr>\n",
       "      <th>...</th>\n",
       "      <td>...</td>\n",
       "    </tr>\n",
       "    <tr>\n",
       "      <th>305</th>\n",
       "      <td>0.497121483951637</td>\n",
       "    </tr>\n",
       "    <tr>\n",
       "      <th>306</th>\n",
       "      <td>0.48473086034608226</td>\n",
       "    </tr>\n",
       "    <tr>\n",
       "      <th>307</th>\n",
       "      <td>0.592527</td>\n",
       "    </tr>\n",
       "    <tr>\n",
       "      <th>308</th>\n",
       "      <td>0.4901294444302229</td>\n",
       "    </tr>\n",
       "    <tr>\n",
       "      <th>309</th>\n",
       "      <td>0.5822016614748328</td>\n",
       "    </tr>\n",
       "  </tbody>\n",
       "</table>\n",
       "<p>310 rows × 1 columns</p>\n",
       "</div>"
      ],
      "text/plain": [
       "                       1\n",
       "0       Nguyễn Tiến Dũng\n",
       "1     0.8999998599290848\n",
       "2     0.5618423846702685\n",
       "3     0.5036944156945999\n",
       "4      0.491528523225775\n",
       "..                   ...\n",
       "305    0.497121483951637\n",
       "306  0.48473086034608226\n",
       "307             0.592527\n",
       "308   0.4901294444302229\n",
       "309   0.5822016614748328\n",
       "\n",
       "[310 rows x 1 columns]"
      ]
     },
     "execution_count": 108,
     "metadata": {},
     "output_type": "execute_result"
    }
   ],
   "source": [
    "\n",
    "\n",
    "df = pd.read_csv(\"Corr_Matrix//demo_rs.csv\",header=None)\n",
    "df = df.iloc[1:,:]\n",
    "df.iloc[0].to_frame()\n",
    "# for i in range(len(df)):\n",
    "#     df.iloc[i].to_frame().nlargest(10,)\n",
    "\n",
    "# for i in len(l)\n",
    "\n",
    "\n",
    "# print(df.nlargest(10,columns= df.columns[1:]))\n",
    "# df.nlargest(10,columns= df.columns[1:]).to_csv(\"ten highest\")\n",
    "# print(np.sort(df.iloc[:,1].to_numpy(),)])\n",
    "\n",
    "\n",
    "# for ir in df.iterrows():\n",
    "#     print(type(ir))\n",
    "# print(df.columns)\n",
    "# print(df.nlargest(10))"
   ]
  },
  {
   "cell_type": "code",
   "execution_count": 109,
   "metadata": {},
   "outputs": [],
   "source": [
    "# df = pd.read_csv(\"TEN_HIGHEST_T.csv\",header=None)\n",
    "# x = df.iloc[:,2:]\n",
    "# kmeans = KMeans(n_clusters=2, random_state=10).fit(x)\n",
    "\n"
   ]
  }
 ],
 "metadata": {
  "kernelspec": {
   "display_name": "Python 3 (ipykernel)",
   "language": "python",
   "name": "python3"
  },
  "language_info": {
   "codemirror_mode": {
    "name": "ipython",
    "version": 3
   },
   "file_extension": ".py",
   "mimetype": "text/x-python",
   "name": "python",
   "nbconvert_exporter": "python",
   "pygments_lexer": "ipython3",
   "version": "3.10.5"
  },
  "vscode": {
   "interpreter": {
    "hash": "a5a69eaf87245e1844a0e13b0487861f7b6dfd85a35dd676dc2bef9c788d763d"
   }
  }
 },
 "nbformat": 4,
 "nbformat_minor": 2
}
