{
 "cells": [
  {
   "cell_type": "code",
   "execution_count": 68,
   "metadata": {},
   "outputs": [],
   "source": [
    "from sklearn.cluster import KMeans\n",
    "import numpy as np\n",
    "import pandas as pd\n",
    "import random"
   ]
  },
  {
   "cell_type": "code",
   "execution_count": 69,
   "metadata": {},
   "outputs": [
    {
     "name": "stdout",
     "output_type": "stream",
     "text": [
      "(323, 10)\n",
      "   Unnamed: 0         0         1         2         3\n",
      "0           0  0.900000  0.585480  0.537028  0.521078\n",
      "1           1  0.603258  0.900000  0.683695  0.726190\n",
      "2           2  0.527331  0.644907  0.900000  0.634540\n",
      "3           3  0.519412  0.721190  0.650449  0.900000\n",
      "4           4  0.471399  0.631201  0.571945  0.609029\n"
     ]
    }
   ],
   "source": [
    "# grouping\n",
    "df = pd.read_csv(\"Corr_Matrix//corr_noname.csv\")\n",
    "df_user = pd.read_csv(\"C:\\\\Users\\\\quach\\\\Desktop\\\\Personal\\\\FPT University\\\\SEMESTER 9\\\\Dataset\\\\FINAL_DataSet.csv\")\n",
    "print(df_user.shape)\n",
    "print(df.iloc[:5,:5])\n",
    "\n",
    "def enumLs(lst):\n",
    "    ls = []\n",
    "    for index,Val in enumerate(lst):\n",
    "        ls.append([Val,index])\n",
    "    ls.sort()\n",
    "    return ls"
   ]
  },
  {
   "cell_type": "code",
   "execution_count": 70,
   "metadata": {},
   "outputs": [],
   "source": [
    "def grouping(np_data):\n",
    "    np_data = df.to_numpy()[:,1:]\n",
    "    corr = np.fill_diagonal(np_data,0)\n",
    "    in_room = []\n",
    "    dorm = []\n",
    "    for  id, corr in enumerate(np_data):\n",
    "        room = []\n",
    "        i = -1\n",
    "        if id not in in_room:\n",
    "            max_size = 0\n",
    "            room.append(id)\n",
    "            in_room.append(id)\n",
    "            new_corr = enumLs(corr)\n",
    "            while max_size != 2:\n",
    "                if i < - 300:\n",
    "                    break\n",
    "                if new_corr[i][1] not in in_room:\n",
    "                    room.append(new_corr[i][1])\n",
    "                    in_room.append(new_corr[i][1])\n",
    "                    max_size = max_size + 1\n",
    "                i = i - 1\n",
    "            dorm.append(room)\n",
    "    return dorm"
   ]
  },
  {
   "cell_type": "code",
   "execution_count": 71,
   "metadata": {},
   "outputs": [
    {
     "name": "stdout",
     "output_type": "stream",
     "text": [
      "[[0, 169, 168], [1, 287, 158], [2, 37, 52], [3, 288, 18], [4, 121, 298], [5, 141, 225], [6, 13, 106], [7, 38, 271], [8, 175, 21], [9, 33, 26], [10, 191, 230], [11, 231, 15], [12, 67, 140], [14, 305, 123], [16, 202, 80], [17, 195, 176], [19, 55, 145], [20, 133, 164], [22, 220, 227], [23, 192, 219], [24, 137, 40], [25, 316, 47], [27, 83, 207], [28, 143, 65], [29, 250, 285], [30, 275, 95], [31, 188, 68], [32, 211, 199], [34, 216, 159], [35, 232, 252], [36, 223, 46], [39, 61, 257], [41, 74, 254], [42, 249, 77], [43, 53, 142], [44, 239, 259], [45, 189, 301], [48, 72, 69], [49, 258, 97], [50, 101, 81], [51, 233, 237], [54, 122, 313], [56, 292, 272], [57, 119, 149], [58, 182, 279], [59, 63, 110], [60, 228, 246], [62, 134, 120], [64, 99, 238], [66, 300, 184], [70, 75, 156], [71, 139, 306], [73, 296, 214], [76, 144, 116], [78, 181, 150], [79, 319, 236], [82, 277, 92], [84, 215, 311], [85, 180, 255], [86, 224, 200], [87, 152, 248], [88, 280, 147], [89, 103, 242], [90, 167, 148], [91, 173, 206], [93, 251, 245], [94, 278, 109], [96, 213, 304], [98, 294, 165], [100, 276, 117], [102, 118, 127], [104, 299, 129], [105, 154, 157], [107, 153, 135], [108, 203, 128], [111, 130, 178], [112, 314, 256], [113, 265, 240], [114, 172, 177], [115, 283, 234], [124, 186, 244], [125, 185, 163], [126, 161, 286], [131, 196, 212], [132, 210, 284], [136, 282, 293], [138, 315, 183], [146, 312, 281], [151, 179, 221], [155, 193, 268], [160, 317, 291], [162, 241, 208], [166, 197, 201], [170, 307, 295], [171, 274, 289], [174, 243, 318], [187, 217, 266], [190, 290, 303], [194, 267, 229], [198, 264, 253], [204, 209, 226], [205, 218, 262], [222, 269, 263], [235, 309, 273], [247, 308, 310], [260, 302, 320], [261, 270, 297]]\n"
     ]
    }
   ],
   "source": [
    "arr_room = grouping(df)\n",
    "print(arr_room)"
   ]
  },
  {
   "cell_type": "code",
   "execution_count": 72,
   "metadata": {},
   "outputs": [],
   "source": [
    "def to_Room(groups):\n",
    "    user_room = []\n",
    "    for num,group in enumerate(groups):\n",
    "        for user in group:\n",
    "            user_room.append([user,num])\n",
    "    user_room = sorted(user_room)\n",
    "    to_df = pd.DataFrame(columns=['id', 'room'],data=user_room)\n",
    "    return to_df\n",
    "room = to_Room(arr_room)\n",
    "room.to_csv(\"ROOM.csv\",index=False)"
   ]
  }
 ],
 "metadata": {
  "kernelspec": {
   "display_name": "Python 3 (ipykernel)",
   "language": "python",
   "name": "python3"
  },
  "language_info": {
   "codemirror_mode": {
    "name": "ipython",
    "version": 3
   },
   "file_extension": ".py",
   "mimetype": "text/x-python",
   "name": "python",
   "nbconvert_exporter": "python",
   "pygments_lexer": "ipython3",
   "version": "3.10.5"
  },
  "vscode": {
   "interpreter": {
    "hash": "a5a69eaf87245e1844a0e13b0487861f7b6dfd85a35dd676dc2bef9c788d763d"
   }
  }
 },
 "nbformat": 4,
 "nbformat_minor": 2
}
