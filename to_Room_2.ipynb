{
 "cells": [
  {
   "cell_type": "code",
   "execution_count": 412,
   "metadata": {},
   "outputs": [],
   "source": [
    "from sklearn.cluster import KMeans\n",
    "import numpy as np\n",
    "import pandas as pd\n",
    "import random"
   ]
  },
  {
   "cell_type": "code",
   "execution_count": 413,
   "metadata": {},
   "outputs": [
    {
     "name": "stdout",
     "output_type": "stream",
     "text": [
      "   Unnamed: 0         0         1         2         3\n",
      "0           0  0.900000  0.561842  0.503694  0.491529\n",
      "1           1  0.602354  0.900000  0.683695  0.726190\n",
      "2           2  0.503789  0.644907  0.900000  0.634540\n",
      "3           3  0.508574  0.721190  0.650449  0.900000\n",
      "4           4  0.517437  0.631202  0.571945  0.609030\n"
     ]
    }
   ],
   "source": [
    "# grouping\n",
    "df = pd.read_csv(\"Corr_Matrix//corr_noname.csv\")\n",
    "print(df.iloc[:5,:5])\n",
    "\n",
    "def enumLs(lst):\n",
    "    ls = []\n",
    "    for index,Val in enumerate(lst):\n",
    "        ls.append([Val,index])\n",
    "    ls.sort()\n",
    "    return ls"
   ]
  },
  {
   "cell_type": "code",
   "execution_count": 414,
   "metadata": {},
   "outputs": [],
   "source": [
    "\n",
    "\n",
    "def to_Room(np_data):\n",
    "    np_data = df.to_numpy()[:,1:]\n",
    "    corr = np.fill_diagonal(np_data,0)\n",
    "    in_room = []\n",
    "    dorm = []\n",
    "    for  id, corr in enumerate(np_data):\n",
    "        room = []\n",
    "        i = -1\n",
    "        if id not in in_room:\n",
    "            max_size = 0\n",
    "            room.append(id)\n",
    "            in_room.append(id)\n",
    "            new_corr = enumLs(corr)\n",
    "            while max_size != 2:\n",
    "                if i < - 300:\n",
    "                    break\n",
    "                if new_corr[i][1] not in in_room:\n",
    "                    room.append(new_corr[i][1])\n",
    "                    in_room.append(new_corr[i][1])\n",
    "                    max_size = max_size + 1\n",
    "                i = i - 1\n",
    "            dorm.append(room)\n",
    "    return dorm"
   ]
  },
  {
   "cell_type": "code",
   "execution_count": 415,
   "metadata": {},
   "outputs": [
    {
     "name": "stdout",
     "output_type": "stream",
     "text": [
      "[[0, 225, 207], [1, 287, 158], [2, 37, 52], [3, 288, 7], [4, 121, 298], [5, 141, 10], [6, 13, 106], [8, 175, 21], [9, 33, 26], [11, 18, 231], [12, 67, 140], [14, 305, 123], [15, 300, 191], [16, 202, 80], [17, 195, 176], [19, 55, 145], [20, 74, 133], [22, 220, 227], [23, 192, 169], [24, 137, 40], [25, 47, 94], [27, 83, 174], [28, 143, 65], [29, 250, 285], [30, 217, 275], [31, 188, 68], [32, 211, 199], [34, 216, 159], [35, 232, 252], [36, 223, 46], [38, 254, 259], [39, 61, 257], [41, 164, 266], [42, 249, 77], [43, 53, 142], [44, 239, 54], [45, 189, 301], [48, 72, 69], [49, 258, 97], [50, 101, 81], [51, 95, 256], [56, 292, 272], [57, 119, 132], [58, 182, 279], [59, 63, 110], [60, 228, 246], [62, 237, 134], [64, 99, 238], [66, 184, 152], [70, 75, 156], [71, 271, 139], [73, 296, 214], [76, 144, 116], [78, 181, 224], [79, 120, 203], [82, 277, 92], [84, 109, 105], [85, 180, 236], [86, 200, 88], [87, 248, 255], [89, 103, 122], [90, 242, 167], [91, 230, 173], [93, 251, 245], [96, 213, 304], [98, 294, 148], [100, 276, 117], [102, 118, 127], [104, 299, 129], [107, 153, 135], [108, 150, 147], [111, 130, 178], [112, 215, 154], [113, 265, 240], [114, 172, 161], [115, 283, 149], [124, 186, 244], [125, 185, 163], [126, 177, 286], [128, 278, 243], [131, 196, 212], [136, 282, 306], [138, 168, 183], [146, 281, 241], [151, 179, 221], [155, 193, 268], [157, 297, 187], [160, 210, 284], [162, 280, 208], [165, 264, 274], [166, 197, 201], [170, 307, 295], [171, 289, 303], [190, 233, 290], [194, 267, 229], [198, 253, 218], [204, 291, 209], [205, 262, 247], [206, 293, 273], [219, 234, 226], [222, 269, 263], [235, 308, 302], [260, 261, 270]]\n"
     ]
    }
   ],
   "source": [
    "print(to_Room(df))"
   ]
  },
  {
   "cell_type": "code",
   "execution_count": 416,
   "metadata": {},
   "outputs": [],
   "source": [
    "# for id,user in enumerate(np_data):\n",
    "#     if id not in in_room:\n",
    "#         i = -1\n",
    "#         while True:\n",
    "#             while True:\n",
    "#                 sort_lis = enumLs(user)\n",
    "#                 new_user = sort_lis[i]\n",
    "#                 if new_user not in in_room:\n",
    "#                     room.append(user)\n",
    "#                     break\n",
    "#                 else:\n",
    "\n",
    "#     else:\n",
    "#         continue\n",
    "\n",
    "\n",
    "    # if id not in in_room:\n",
    "    #     room.append(id)\n",
    "    #     in_room.append(id)\n",
    "    # else:\n",
    "    #     continue\n",
    "    # new_us = np.argmax(user)\n",
    "    # while size != 0:\n",
    "    #     if new_us not in in_room:\n",
    "    #         room.append(new_us)\n",
    "    #         in_room.append(new_us)\n",
    "    #         new_us = np.argmax(np_data[new_us])\n",
    "    #         size = size - 1\n",
    "    #     else:\n",
    "            \n",
    "    # if size == 0: \n",
    "    #     dorm.append(room)\n",
    "    #     room = []\n",
    "    #     size = 2"
   ]
  }
 ],
 "metadata": {
  "kernelspec": {
   "display_name": "Python 3 (ipykernel)",
   "language": "python",
   "name": "python3"
  },
  "language_info": {
   "codemirror_mode": {
    "name": "ipython",
    "version": 3
   },
   "file_extension": ".py",
   "mimetype": "text/x-python",
   "name": "python",
   "nbconvert_exporter": "python",
   "pygments_lexer": "ipython3",
   "version": "3.10.5"
  },
  "vscode": {
   "interpreter": {
    "hash": "a5a69eaf87245e1844a0e13b0487861f7b6dfd85a35dd676dc2bef9c788d763d"
   }
  }
 },
 "nbformat": 4,
 "nbformat_minor": 2
}
